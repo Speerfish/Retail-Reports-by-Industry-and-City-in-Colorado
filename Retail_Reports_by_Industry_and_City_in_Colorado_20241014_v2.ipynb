{
 "cells": [
  {
   "cell_type": "code",
   "execution_count": null,
   "metadata": {},
   "outputs": [],
   "source": [
    "import pandas as pd\n",
    "\n",
    "# Step 2: Load the CSV file into a pandas DataFrame\n",
    "file_path = 'Retail_Reports_by_Industry_and_City_in_Colorado_20241014.csv'  # Adjust the file path\n",
    "df = pd.read_csv(file_path)\n",
    "\n",
    "# Step 3: Select the relevant columns for analysis\n",
    "columns_of_interest = ['month', 'year', 'naics', 'industry', 'Arvada', 'Aurora', 'Boulder', \n",
    "                       'Centennial', 'Colorado Springs', 'Denver', 'Fort Collins', 'Greeley', \n",
    "                       'Lakewood', 'Longmont', 'Pueblo', 'Thornton', 'Westminster']\n",
    "\n",
    "# Filter the DataFrame to keep only the relevant columns\n",
    "df_filtered = df[columns_of_interest]\n",
    "df_filtered.head(10)  # Display the first few rows"
   ]
  },
  {
   "cell_type": "code",
   "execution_count": 2,
   "metadata": {},
   "outputs": [],
   "source": [
    "# Step 4: Create a 'date' column from 'month' and 'year'\n",
    "df_filtered['date'] = pd.to_datetime(df_filtered[['year', 'month']].assign(day=1))\n",
    "\n",
    "# Step 5: Set 'date' as the index of the DataFrame for time series plotting\n",
    "df_filtered.set_index('date', inplace=True)\n",
    "\n",
    "# Drop the 'month' and 'year' columns as they're now part of 'date'\n",
    "df_filtered.drop(columns=['month', 'year'], inplace=True)"
   ]
  },
  {
   "cell_type": "code",
   "execution_count": null,
   "metadata": {},
   "outputs": [],
   "source": [
    "import matplotlib.pyplot as plt\n",
    "\n",
    "# Step 6: Group the data by 'industry'\n",
    "industry_groups = df_filtered.groupby('industry')\n",
    "\n",
    "# Step 7: Loop through each industry group and plot the time series for each city\n",
    "for industry, group in industry_groups:\n",
    "    plt.figure(figsize=(20, 200))  # Set the figure size\n",
    "\n",
    "    # Loop through each city and plot its time series\n",
    "    for city in ['Arvada', 'Aurora', 'Boulder', 'Centennial', 'Colorado Springs', \n",
    "                 'Denver', 'Fort Collins', 'Greeley', 'Lakewood', 'Longmont', \n",
    "                 'Pueblo', 'Thornton', 'Westminster']:\n",
    "        \n",
    "        # Plot each city's values over time with a label\n",
    "        plt.plot(group.index, group[city], label=city)\n",
    "    \n",
    "    # Add title, labels, and legend\n",
    "    plt.title(f'Time Series of Retail Sales for {industry} by City', fontsize=14)\n",
    "    plt.xlabel('Date', fontsize=12)\n",
    "    plt.ylabel('Sales Value', fontsize=12)\n",
    "    plt.legend(loc='upper left', bbox_to_anchor=(1, 1))  # Place the legend outside the plot\n",
    "    plt.grid(True)\n",
    "    \n",
    "    # Show the plot\n",
    "    plt.tight_layout()\n",
    "    plt.show()"
   ]
  },
  {
   "cell_type": "code",
   "execution_count": null,
   "metadata": {},
   "outputs": [],
   "source": [
    "# Step 8: Save each plot as an image file\n",
    "plt.savefig(f'{industry}_sales_time_series.png', bbox_inches='tight')"
   ]
  }
 ],
 "metadata": {
  "kernelspec": {
   "display_name": "Python 3",
   "language": "python",
   "name": "python3"
  },
  "language_info": {
   "codemirror_mode": {
    "name": "ipython",
    "version": 3
   },
   "file_extension": ".py",
   "mimetype": "text/x-python",
   "name": "python",
   "nbconvert_exporter": "python",
   "pygments_lexer": "ipython3",
   "version": "3.11.10"
  }
 },
 "nbformat": 4,
 "nbformat_minor": 2
}
